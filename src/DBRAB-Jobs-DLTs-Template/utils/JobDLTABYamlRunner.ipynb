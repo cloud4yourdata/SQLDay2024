{
 "cells": [
  {
   "cell_type": "markdown",
   "metadata": {},
   "source": [
    "## JobDLTABYamlExporter \n",
    "Is a tool to dump existing Databricks Jobs and DLTs to [Asset Bundle](https://docs.databricks.com/en/dev-tools/bundles/index.html) project \n",
    "### Prerequisites:\n",
    "- [Visual Studio Code](https://code.visualstudio.com/)\n",
    "- [Python](https://www.python.org/)\n",
    "- [Databricks SDK Python Library](https://docs.databricks.com/en/dev-tools/sdk-python.html)\n",
    "- [Databricks CLI](https://docs.databricks.com/en/dev-tools/cli/index.html)\n",
    "  - [Asset Bundle](https://docs.databricks.com/en/dev-tools/bundles/index.html)\n",
    "- [Personal Access Token](https://docs.databricks.com/en/dev-tools/auth/pat.html)\n",
    "\n",
    "Tool generate Asset Bundle YAML Jobs and DLTs definitions (based on Databricks resources )\n",
    "#### Params:\n",
    "- Databricks Workspace URL\n",
    "- Databricks Personal Access Token\n",
    "#### Results:\n",
    "- Jobs -path resources\\Jobs\n",
    "- DLTs -path resources\\DLT\n",
    "\n",
    "#### Description\n",
    "In the first step all existing YAML files (Jobs and DLTS) are removed. \n",
    "Next the existing DLTs are exported with new names (default suffix -DBR-AB).\n",
    "Then Jobs exported with new name (default suffix -DBR-AB) - tool automatically creates dependencies \n",
    "between Jobs and DLTs"
   ]
  },
  {
   "cell_type": "code",
   "execution_count": 1,
   "metadata": {},
   "outputs": [],
   "source": [
    "## Databricks Workspace URL\n",
    "dbr_whost='https://*****************.azuredatabricks.net/'\n",
    "## Databricks Personal Access Token\n",
    "token='**********************'"
   ]
  },
  {
   "cell_type": "code",
   "execution_count": 2,
   "metadata": {},
   "outputs": [],
   "source": [
    "catalog_by_storage={'dbfs:/mnt/silver/':'silver','dbfs:/mnt/gold/':'gold'}"
   ]
  },
  {
   "cell_type": "code",
   "execution_count": 3,
   "metadata": {},
   "outputs": [
    {
     "name": "stdout",
     "output_type": "stream",
     "text": [
      "Version:0.0.4\n",
      "Exporting DLTs...\n",
      "Exporting DLT pipeline :DLT-Sales-Silver-UC\n",
      "Converting to UC....\n",
      "Exporting DLT pipeline :DLT-Marketing-Silver\n",
      "Converting to UC....\n",
      "Exporting DLT pipeline :DLT-Gold-DWHSales\n",
      "Converting to UC....\n",
      "Exporting DLT pipeline :DLT-Clients-Silver\n",
      "Converting to UC....\n",
      "Exporting DLT pipeline :DLT-Sales-Silver\n",
      "Converting to UC....\n",
      "Exporting Jobs...\n",
      "Exporting Job:[UCX] remove-workspace-local-backup-groups\n",
      "Exporting Job:[UCX] 099-destroy-schema\n",
      "Exporting Job:[UCX] validate-groups-permissions\n",
      "Exporting Job:[UCX] migrate-groups-experimental\n",
      "Exporting Job:[UCX] assessment\n",
      "Exporting Job:[UCX] migrate-tables\n",
      "Exporting Job:[UCX] migrate-groups\n",
      "Exporting Job:[UCX] migrate-tables-in-mounts-experimental\n"
     ]
    }
   ],
   "source": [
    "from AssetBundleYamlExporter import JobDLTABYamlExporter\n",
    "exporter = JobDLTABYamlExporter(dbr_host=dbr_whost,\n",
    "                                dbr_access_token=token)\n",
    "exporter.version()\n",
    "exporter.convert_DLT_to_UC(catalog_by_storage)\n",
    "#exporter.delete_Jobs()\n",
    "#exporter.delete_DLTs()\n",
    "exporter.export()"
   ]
  },
  {
   "cell_type": "markdown",
   "metadata": {},
   "source": [
    "# Asset Bundle\n",
    "```\n",
    "databricks bundle validate\n",
    "databricks bundle deploy -t dev\n",
    "```"
   ]
  },
  {
   "cell_type": "code",
   "execution_count": null,
   "metadata": {},
   "outputs": [],
   "source": []
  }
 ],
 "metadata": {
  "kernelspec": {
   "display_name": "Python 3",
   "language": "python",
   "name": "python3"
  },
  "language_info": {
   "codemirror_mode": {
    "name": "ipython",
    "version": 3
   },
   "file_extension": ".py",
   "mimetype": "text/x-python",
   "name": "python",
   "nbconvert_exporter": "python",
   "pygments_lexer": "ipython3",
   "version": "3.12.1"
  }
 },
 "nbformat": 4,
 "nbformat_minor": 2
}
